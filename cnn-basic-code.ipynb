{
 "cells": [
  {
   "cell_type": "code",
   "execution_count": 1,
   "id": "5ab830d9",
   "metadata": {
    "execution": {
     "iopub.execute_input": "2023-07-06T05:46:36.033721Z",
     "iopub.status.busy": "2023-07-06T05:46:36.033196Z",
     "iopub.status.idle": "2023-07-06T05:46:44.781052Z",
     "shell.execute_reply": "2023-07-06T05:46:44.780070Z"
    },
    "id": "fd3d4a98",
    "papermill": {
     "duration": 8.766064,
     "end_time": "2023-07-06T05:46:44.783829",
     "exception": false,
     "start_time": "2023-07-06T05:46:36.017765",
     "status": "completed"
    },
    "tags": []
   },
   "outputs": [
    {
     "name": "stderr",
     "output_type": "stream",
     "text": [
      "/opt/conda/lib/python3.10/site-packages/tensorflow_io/python/ops/__init__.py:98: UserWarning: unable to load libtensorflow_io_plugins.so: unable to open file: libtensorflow_io_plugins.so, from paths: ['/opt/conda/lib/python3.10/site-packages/tensorflow_io/python/ops/libtensorflow_io_plugins.so']\n",
      "caused by: ['/opt/conda/lib/python3.10/site-packages/tensorflow_io/python/ops/libtensorflow_io_plugins.so: undefined symbol: _ZN3tsl6StatusC1EN10tensorflow5error4CodeESt17basic_string_viewIcSt11char_traitsIcEENS_14SourceLocationE']\n",
      "  warnings.warn(f\"unable to load libtensorflow_io_plugins.so: {e}\")\n",
      "/opt/conda/lib/python3.10/site-packages/tensorflow_io/python/ops/__init__.py:104: UserWarning: file system plugins are not loaded: unable to open file: libtensorflow_io.so, from paths: ['/opt/conda/lib/python3.10/site-packages/tensorflow_io/python/ops/libtensorflow_io.so']\n",
      "caused by: ['/opt/conda/lib/python3.10/site-packages/tensorflow_io/python/ops/libtensorflow_io.so: undefined symbol: _ZTVN10tensorflow13GcsFileSystemE']\n",
      "  warnings.warn(f\"file system plugins are not loaded: {e}\")\n"
     ]
    }
   ],
   "source": [
    "import tensorflow as tf"
   ]
  },
  {
   "cell_type": "code",
   "execution_count": 2,
   "id": "6c25e6e5",
   "metadata": {
    "execution": {
     "iopub.execute_input": "2023-07-06T05:46:44.808943Z",
     "iopub.status.busy": "2023-07-06T05:46:44.808217Z",
     "iopub.status.idle": "2023-07-06T05:46:44.813212Z",
     "shell.execute_reply": "2023-07-06T05:46:44.812092Z"
    },
    "id": "75b2b2e7",
    "papermill": {
     "duration": 0.019782,
     "end_time": "2023-07-06T05:46:44.815512",
     "exception": false,
     "start_time": "2023-07-06T05:46:44.795730",
     "status": "completed"
    },
    "tags": []
   },
   "outputs": [],
   "source": [
    "from tensorflow import keras"
   ]
  },
  {
   "cell_type": "code",
   "execution_count": 3,
   "id": "cc135b29",
   "metadata": {
    "execution": {
     "iopub.execute_input": "2023-07-06T05:46:44.840025Z",
     "iopub.status.busy": "2023-07-06T05:46:44.839628Z",
     "iopub.status.idle": "2023-07-06T05:47:13.606395Z",
     "shell.execute_reply": "2023-07-06T05:47:13.604916Z"
    },
    "id": "7195ffcb",
    "outputId": "da75fb12-f58e-432b-8302-dc6cb5f942e8",
    "papermill": {
     "duration": 28.782294,
     "end_time": "2023-07-06T05:47:13.609249",
     "exception": false,
     "start_time": "2023-07-06T05:46:44.826955",
     "status": "completed"
    },
    "tags": []
   },
   "outputs": [
    {
     "name": "stdout",
     "output_type": "stream",
     "text": [
      "Requirement already satisfied: matplotlib in /opt/conda/lib/python3.10/site-packages (3.6.3)\r\n",
      "Collecting matplotlib\r\n",
      "  Downloading matplotlib-3.7.2-cp310-cp310-manylinux_2_17_x86_64.manylinux2014_x86_64.whl (11.6 MB)\r\n",
      "\u001b[2K     \u001b[90m━━━━━━━━━━━━━━━━━━━━━━━━━━━━━━━━━━━━━━━━\u001b[0m \u001b[32m11.6/11.6 MB\u001b[0m \u001b[31m63.8 MB/s\u001b[0m eta \u001b[36m0:00:00\u001b[0m\r\n",
      "\u001b[?25hRequirement already satisfied: contourpy>=1.0.1 in /opt/conda/lib/python3.10/site-packages (from matplotlib) (1.0.7)\r\n",
      "Requirement already satisfied: cycler>=0.10 in /opt/conda/lib/python3.10/site-packages (from matplotlib) (0.11.0)\r\n",
      "Requirement already satisfied: fonttools>=4.22.0 in /opt/conda/lib/python3.10/site-packages (from matplotlib) (4.39.3)\r\n",
      "Requirement already satisfied: kiwisolver>=1.0.1 in /opt/conda/lib/python3.10/site-packages (from matplotlib) (1.4.4)\r\n",
      "Requirement already satisfied: numpy>=1.20 in /opt/conda/lib/python3.10/site-packages (from matplotlib) (1.23.5)\r\n",
      "Requirement already satisfied: packaging>=20.0 in /opt/conda/lib/python3.10/site-packages (from matplotlib) (21.3)\r\n",
      "Requirement already satisfied: pillow>=6.2.0 in /opt/conda/lib/python3.10/site-packages (from matplotlib) (9.5.0)\r\n",
      "Requirement already satisfied: pyparsing<3.1,>=2.3.1 in /opt/conda/lib/python3.10/site-packages (from matplotlib) (3.0.9)\r\n",
      "Requirement already satisfied: python-dateutil>=2.7 in /opt/conda/lib/python3.10/site-packages (from matplotlib) (2.8.2)\r\n",
      "Requirement already satisfied: six>=1.5 in /opt/conda/lib/python3.10/site-packages (from python-dateutil>=2.7->matplotlib) (1.16.0)\r\n",
      "Installing collected packages: matplotlib\r\n",
      "  Attempting uninstall: matplotlib\r\n",
      "    Found existing installation: matplotlib 3.6.3\r\n",
      "    Uninstalling matplotlib-3.6.3:\r\n",
      "      Successfully uninstalled matplotlib-3.6.3\r\n",
      "\u001b[31mERROR: pip's dependency resolver does not currently take into account all the packages that are installed. This behaviour is the source of the following dependency conflicts.\r\n",
      "beatrix-jupyterlab 2023.58.190319 requires jupyter-server~=1.16, but you have jupyter-server 2.5.0 which is incompatible.\r\n",
      "pymc3 3.11.5 requires numpy<1.22.2,>=1.15.0, but you have numpy 1.23.5 which is incompatible.\r\n",
      "pymc3 3.11.5 requires scipy<1.8.0,>=1.7.3, but you have scipy 1.10.1 which is incompatible.\r\n",
      "ydata-profiling 4.1.2 requires matplotlib<3.7,>=3.2, but you have matplotlib 3.7.2 which is incompatible.\r\n",
      "ydata-profiling 4.1.2 requires scipy<1.10,>=1.4.1, but you have scipy 1.10.1 which is incompatible.\u001b[0m\u001b[31m\r\n",
      "\u001b[0mSuccessfully installed matplotlib-3.7.1\r\n",
      "\u001b[33mWARNING: Running pip as the 'root' user can result in broken permissions and conflicting behaviour with the system package manager. It is recommended to use a virtual environment instead: https://pip.pypa.io/warnings/venv\u001b[0m\u001b[33m\r\n",
      "\u001b[0m"
     ]
    }
   ],
   "source": [
    "!pip install -U matplotlib"
   ]
  },
  {
   "cell_type": "code",
   "execution_count": 4,
   "id": "5548ed85",
   "metadata": {
    "execution": {
     "iopub.execute_input": "2023-07-06T05:47:13.636674Z",
     "iopub.status.busy": "2023-07-06T05:47:13.636271Z",
     "iopub.status.idle": "2023-07-06T05:47:26.632264Z",
     "shell.execute_reply": "2023-07-06T05:47:26.631205Z"
    },
    "id": "6402eb07",
    "outputId": "34dff9f9-428b-4afd-9436-9e336f847669",
    "papermill": {
     "duration": 13.012703,
     "end_time": "2023-07-06T05:47:26.634796",
     "exception": false,
     "start_time": "2023-07-06T05:47:13.622093",
     "status": "completed"
    },
    "tags": []
   },
   "outputs": [
    {
     "name": "stdout",
     "output_type": "stream",
     "text": [
      "Requirement already satisfied: seaborn in /opt/conda/lib/python3.10/site-packages (0.12.2)\r\n",
      "Requirement already satisfied: numpy!=1.24.0,>=1.17 in /opt/conda/lib/python3.10/site-packages (from seaborn) (1.23.5)\r\n",
      "Requirement already satisfied: pandas>=0.25 in /opt/conda/lib/python3.10/site-packages (from seaborn) (1.5.3)\r\n",
      "Requirement already satisfied: matplotlib!=3.6.1,>=3.1 in /opt/conda/lib/python3.10/site-packages (from seaborn) (3.7.1)\r\n",
      "Requirement already satisfied: contourpy>=1.0.1 in /opt/conda/lib/python3.10/site-packages (from matplotlib!=3.6.1,>=3.1->seaborn) (1.0.7)\r\n",
      "Requirement already satisfied: cycler>=0.10 in /opt/conda/lib/python3.10/site-packages (from matplotlib!=3.6.1,>=3.1->seaborn) (0.11.0)\r\n",
      "Requirement already satisfied: fonttools>=4.22.0 in /opt/conda/lib/python3.10/site-packages (from matplotlib!=3.6.1,>=3.1->seaborn) (4.39.3)\r\n",
      "Requirement already satisfied: kiwisolver>=1.0.1 in /opt/conda/lib/python3.10/site-packages (from matplotlib!=3.6.1,>=3.1->seaborn) (1.4.4)\r\n",
      "Requirement already satisfied: packaging>=20.0 in /opt/conda/lib/python3.10/site-packages (from matplotlib!=3.6.1,>=3.1->seaborn) (21.3)\r\n",
      "Requirement already satisfied: pillow>=6.2.0 in /opt/conda/lib/python3.10/site-packages (from matplotlib!=3.6.1,>=3.1->seaborn) (9.5.0)\r\n",
      "Requirement already satisfied: pyparsing>=2.3.1 in /opt/conda/lib/python3.10/site-packages (from matplotlib!=3.6.1,>=3.1->seaborn) (3.0.9)\r\n",
      "Requirement already satisfied: python-dateutil>=2.7 in /opt/conda/lib/python3.10/site-packages (from matplotlib!=3.6.1,>=3.1->seaborn) (2.8.2)\r\n",
      "Requirement already satisfied: pytz>=2020.1 in /opt/conda/lib/python3.10/site-packages (from pandas>=0.25->seaborn) (2023.3)\r\n",
      "Requirement already satisfied: six>=1.5 in /opt/conda/lib/python3.10/site-packages (from python-dateutil>=2.7->matplotlib!=3.6.1,>=3.1->seaborn) (1.16.0)\r\n",
      "\u001b[33mWARNING: Running pip as the 'root' user can result in broken permissions and conflicting behaviour with the system package manager. It is recommended to use a virtual environment instead: https://pip.pypa.io/warnings/venv\u001b[0m\u001b[33m\r\n",
      "\u001b[0m"
     ]
    }
   ],
   "source": [
    "!pip install -U seaborn"
   ]
  },
  {
   "cell_type": "code",
   "execution_count": 5,
   "id": "49fed12b",
   "metadata": {
    "execution": {
     "iopub.execute_input": "2023-07-06T05:47:26.663222Z",
     "iopub.status.busy": "2023-07-06T05:47:26.662784Z",
     "iopub.status.idle": "2023-07-06T05:47:27.899949Z",
     "shell.execute_reply": "2023-07-06T05:47:27.898949Z"
    },
    "id": "d3c46451",
    "papermill": {
     "duration": 1.254516,
     "end_time": "2023-07-06T05:47:27.902690",
     "exception": false,
     "start_time": "2023-07-06T05:47:26.648174",
     "status": "completed"
    },
    "tags": []
   },
   "outputs": [],
   "source": [
    "import matplotlib.pyplot as plt\n",
    "import seaborn as sns"
   ]
  },
  {
   "cell_type": "code",
   "execution_count": 6,
   "id": "428f7e1d",
   "metadata": {
    "execution": {
     "iopub.execute_input": "2023-07-06T05:47:27.930573Z",
     "iopub.status.busy": "2023-07-06T05:47:27.930205Z",
     "iopub.status.idle": "2023-07-06T05:47:27.935301Z",
     "shell.execute_reply": "2023-07-06T05:47:27.934193Z"
    },
    "id": "b45adbc7",
    "papermill": {
     "duration": 0.021669,
     "end_time": "2023-07-06T05:47:27.937625",
     "exception": false,
     "start_time": "2023-07-06T05:47:27.915956",
     "status": "completed"
    },
    "tags": []
   },
   "outputs": [],
   "source": [
    "import numpy as np\n",
    "import pandas as pd\n",
    "import warnings"
   ]
  },
  {
   "cell_type": "code",
   "execution_count": 7,
   "id": "0b880c10",
   "metadata": {
    "execution": {
     "iopub.execute_input": "2023-07-06T05:47:27.965079Z",
     "iopub.status.busy": "2023-07-06T05:47:27.964704Z",
     "iopub.status.idle": "2023-07-06T05:47:27.969598Z",
     "shell.execute_reply": "2023-07-06T05:47:27.968662Z"
    },
    "id": "8af093d5",
    "papermill": {
     "duration": 0.021148,
     "end_time": "2023-07-06T05:47:27.971753",
     "exception": false,
     "start_time": "2023-07-06T05:47:27.950605",
     "status": "completed"
    },
    "tags": []
   },
   "outputs": [],
   "source": [
    "import warnings\n",
    "warnings.filterwarnings('ignore')"
   ]
  },
  {
   "cell_type": "code",
   "execution_count": 8,
   "id": "d0d821b2",
   "metadata": {
    "execution": {
     "iopub.execute_input": "2023-07-06T05:47:27.999385Z",
     "iopub.status.busy": "2023-07-06T05:47:27.998997Z",
     "iopub.status.idle": "2023-07-06T05:47:28.004900Z",
     "shell.execute_reply": "2023-07-06T05:47:28.003335Z"
    },
    "id": "e38d85a1",
    "papermill": {
     "duration": 0.02314,
     "end_time": "2023-07-06T05:47:28.007776",
     "exception": false,
     "start_time": "2023-07-06T05:47:27.984636",
     "status": "completed"
    },
    "tags": []
   },
   "outputs": [],
   "source": [
    "df=keras.datasets.fashion_mnist"
   ]
  },
  {
   "cell_type": "code",
   "execution_count": 9,
   "id": "bca3575c",
   "metadata": {
    "execution": {
     "iopub.execute_input": "2023-07-06T05:47:28.035842Z",
     "iopub.status.busy": "2023-07-06T05:47:28.035455Z",
     "iopub.status.idle": "2023-07-06T05:47:29.338118Z",
     "shell.execute_reply": "2023-07-06T05:47:29.337093Z"
    },
    "id": "c47964e4",
    "outputId": "73eb7313-f65d-497b-d39b-3438a8d16564",
    "papermill": {
     "duration": 1.319712,
     "end_time": "2023-07-06T05:47:29.340718",
     "exception": false,
     "start_time": "2023-07-06T05:47:28.021006",
     "status": "completed"
    },
    "tags": []
   },
   "outputs": [
    {
     "name": "stdout",
     "output_type": "stream",
     "text": [
      "Downloading data from https://storage.googleapis.com/tensorflow/tf-keras-datasets/train-labels-idx1-ubyte.gz\n",
      "29515/29515 [==============================] - 0s 0us/step\n",
      "Downloading data from https://storage.googleapis.com/tensorflow/tf-keras-datasets/train-images-idx3-ubyte.gz\n",
      "26421880/26421880 [==============================] - 0s 0us/step\n",
      "Downloading data from https://storage.googleapis.com/tensorflow/tf-keras-datasets/t10k-labels-idx1-ubyte.gz\n",
      "5148/5148 [==============================] - 0s 0us/step\n",
      "Downloading data from https://storage.googleapis.com/tensorflow/tf-keras-datasets/t10k-images-idx3-ubyte.gz\n",
      "4422102/4422102 [==============================] - 0s 0us/step\n"
     ]
    }
   ],
   "source": [
    "(x_train,y_train),(x_test,y_test)=df.load_data()"
   ]
  },
  {
   "cell_type": "code",
   "execution_count": 10,
   "id": "3cb45636",
   "metadata": {
    "execution": {
     "iopub.execute_input": "2023-07-06T05:47:29.371164Z",
     "iopub.status.busy": "2023-07-06T05:47:29.370772Z",
     "iopub.status.idle": "2023-07-06T05:47:29.378377Z",
     "shell.execute_reply": "2023-07-06T05:47:29.377320Z"
    },
    "id": "cc683bb4",
    "outputId": "1da00583-70da-44b1-a995-d081d86e19a1",
    "papermill": {
     "duration": 0.025694,
     "end_time": "2023-07-06T05:47:29.380868",
     "exception": false,
     "start_time": "2023-07-06T05:47:29.355174",
     "status": "completed"
    },
    "tags": []
   },
   "outputs": [
    {
     "data": {
      "text/plain": [
       "(60000, 28, 28)"
      ]
     },
     "execution_count": 10,
     "metadata": {},
     "output_type": "execute_result"
    }
   ],
   "source": [
    "x_train.shape"
   ]
  },
  {
   "cell_type": "code",
   "execution_count": 11,
   "id": "74ad278c",
   "metadata": {
    "execution": {
     "iopub.execute_input": "2023-07-06T05:47:29.412933Z",
     "iopub.status.busy": "2023-07-06T05:47:29.412544Z",
     "iopub.status.idle": "2023-07-06T05:47:29.418971Z",
     "shell.execute_reply": "2023-07-06T05:47:29.417957Z"
    },
    "id": "950bdf5c",
    "outputId": "a2e4650c-8f9b-4488-f146-58ea2d4bd8a5",
    "papermill": {
     "duration": 0.024461,
     "end_time": "2023-07-06T05:47:29.421335",
     "exception": false,
     "start_time": "2023-07-06T05:47:29.396874",
     "status": "completed"
    },
    "tags": []
   },
   "outputs": [
    {
     "data": {
      "text/plain": [
       "(60000,)"
      ]
     },
     "execution_count": 11,
     "metadata": {},
     "output_type": "execute_result"
    }
   ],
   "source": [
    "y_train.shape"
   ]
  },
  {
   "cell_type": "code",
   "execution_count": 12,
   "id": "b011bde0",
   "metadata": {
    "execution": {
     "iopub.execute_input": "2023-07-06T05:47:29.451736Z",
     "iopub.status.busy": "2023-07-06T05:47:29.451362Z",
     "iopub.status.idle": "2023-07-06T05:47:29.457872Z",
     "shell.execute_reply": "2023-07-06T05:47:29.456795Z"
    },
    "id": "4cff14d1",
    "outputId": "93c4bbd3-57c2-4494-814c-62476664c261",
    "papermill": {
     "duration": 0.024341,
     "end_time": "2023-07-06T05:47:29.460071",
     "exception": false,
     "start_time": "2023-07-06T05:47:29.435730",
     "status": "completed"
    },
    "tags": []
   },
   "outputs": [
    {
     "data": {
      "text/plain": [
       "(10000, 28, 28)"
      ]
     },
     "execution_count": 12,
     "metadata": {},
     "output_type": "execute_result"
    }
   ],
   "source": [
    "x_test.shape"
   ]
  },
  {
   "cell_type": "code",
   "execution_count": 13,
   "id": "4cc1dc4c",
   "metadata": {
    "execution": {
     "iopub.execute_input": "2023-07-06T05:47:29.490930Z",
     "iopub.status.busy": "2023-07-06T05:47:29.490546Z",
     "iopub.status.idle": "2023-07-06T05:47:29.496502Z",
     "shell.execute_reply": "2023-07-06T05:47:29.495477Z"
    },
    "id": "9343b889",
    "outputId": "7ff900fc-58d4-420e-c89e-a383b76f55a3",
    "papermill": {
     "duration": 0.024219,
     "end_time": "2023-07-06T05:47:29.498740",
     "exception": false,
     "start_time": "2023-07-06T05:47:29.474521",
     "status": "completed"
    },
    "tags": []
   },
   "outputs": [
    {
     "data": {
      "text/plain": [
       "(10000,)"
      ]
     },
     "execution_count": 13,
     "metadata": {},
     "output_type": "execute_result"
    }
   ],
   "source": [
    "y_test.shape"
   ]
  },
  {
   "cell_type": "code",
   "execution_count": 14,
   "id": "624def9b",
   "metadata": {
    "execution": {
     "iopub.execute_input": "2023-07-06T05:47:29.530542Z",
     "iopub.status.busy": "2023-07-06T05:47:29.529978Z",
     "iopub.status.idle": "2023-07-06T05:47:29.639185Z",
     "shell.execute_reply": "2023-07-06T05:47:29.638048Z"
    },
    "id": "5bcf1ba1",
    "papermill": {
     "duration": 0.128459,
     "end_time": "2023-07-06T05:47:29.642011",
     "exception": false,
     "start_time": "2023-07-06T05:47:29.513552",
     "status": "completed"
    },
    "tags": []
   },
   "outputs": [],
   "source": [
    "x_train=x_train.astype('float32')/255\n",
    "x_test=x_test.astype('float32')/255"
   ]
  },
  {
   "cell_type": "code",
   "execution_count": 15,
   "id": "482483c7",
   "metadata": {
    "execution": {
     "iopub.execute_input": "2023-07-06T05:47:29.673257Z",
     "iopub.status.busy": "2023-07-06T05:47:29.672874Z",
     "iopub.status.idle": "2023-07-06T05:47:29.679540Z",
     "shell.execute_reply": "2023-07-06T05:47:29.678541Z"
    },
    "id": "de4be884",
    "outputId": "4318c9dd-b66e-475c-f685-8a05e4482add",
    "papermill": {
     "duration": 0.024697,
     "end_time": "2023-07-06T05:47:29.681723",
     "exception": false,
     "start_time": "2023-07-06T05:47:29.657026",
     "status": "completed"
    },
    "tags": []
   },
   "outputs": [
    {
     "data": {
      "text/plain": [
       "array([9, 0, 0, ..., 3, 0, 5], dtype=uint8)"
      ]
     },
     "execution_count": 15,
     "metadata": {},
     "output_type": "execute_result"
    }
   ],
   "source": [
    "y_train"
   ]
  },
  {
   "cell_type": "code",
   "execution_count": 16,
   "id": "cbbfa75d",
   "metadata": {
    "execution": {
     "iopub.execute_input": "2023-07-06T05:47:29.713246Z",
     "iopub.status.busy": "2023-07-06T05:47:29.712608Z",
     "iopub.status.idle": "2023-07-06T05:47:29.717589Z",
     "shell.execute_reply": "2023-07-06T05:47:29.716881Z"
    },
    "id": "ed951b8d",
    "papermill": {
     "duration": 0.023501,
     "end_time": "2023-07-06T05:47:29.719749",
     "exception": false,
     "start_time": "2023-07-06T05:47:29.696248",
     "status": "completed"
    },
    "tags": []
   },
   "outputs": [],
   "source": [
    "class_names = [\n",
    "    'T-shirt/top',\n",
    "    'Trouser',\n",
    "    'Pullover',\n",
    "    'Dress',\n",
    "    'Coat',\n",
    "    'Sandal',\n",
    "    'Shirt',\n",
    "    'Sneaker',\n",
    "    'Bag',\n",
    "    'Ankle boot'\n",
    "]\n"
   ]
  },
  {
   "cell_type": "code",
   "execution_count": 17,
   "id": "1cbae5d3",
   "metadata": {
    "execution": {
     "iopub.execute_input": "2023-07-06T05:47:29.751077Z",
     "iopub.status.busy": "2023-07-06T05:47:29.750710Z",
     "iopub.status.idle": "2023-07-06T05:47:29.757396Z",
     "shell.execute_reply": "2023-07-06T05:47:29.756373Z"
    },
    "id": "026b779e",
    "outputId": "50e575f1-39fd-46ae-e04f-f2a92a8db86f",
    "papermill": {
     "duration": 0.024884,
     "end_time": "2023-07-06T05:47:29.759574",
     "exception": false,
     "start_time": "2023-07-06T05:47:29.734690",
     "status": "completed"
    },
    "tags": []
   },
   "outputs": [
    {
     "data": {
      "text/plain": [
       "['T-shirt/top',\n",
       " 'Trouser',\n",
       " 'Pullover',\n",
       " 'Dress',\n",
       " 'Coat',\n",
       " 'Sandal',\n",
       " 'Shirt',\n",
       " 'Sneaker',\n",
       " 'Bag',\n",
       " 'Ankle boot']"
      ]
     },
     "execution_count": 17,
     "metadata": {},
     "output_type": "execute_result"
    }
   ],
   "source": [
    "class_names"
   ]
  },
  {
   "cell_type": "code",
   "execution_count": 18,
   "id": "b47744d4",
   "metadata": {
    "execution": {
     "iopub.execute_input": "2023-07-06T05:47:29.791135Z",
     "iopub.status.busy": "2023-07-06T05:47:29.790758Z",
     "iopub.status.idle": "2023-07-06T05:47:29.795122Z",
     "shell.execute_reply": "2023-07-06T05:47:29.794405Z"
    },
    "id": "0a5a0b4f",
    "papermill": {
     "duration": 0.022238,
     "end_time": "2023-07-06T05:47:29.797041",
     "exception": false,
     "start_time": "2023-07-06T05:47:29.774803",
     "status": "completed"
    },
    "tags": []
   },
   "outputs": [],
   "source": [
    "from keras import layers"
   ]
  },
  {
   "cell_type": "code",
   "execution_count": 19,
   "id": "bb475cf5",
   "metadata": {
    "execution": {
     "iopub.execute_input": "2023-07-06T05:47:29.828975Z",
     "iopub.status.busy": "2023-07-06T05:47:29.828265Z",
     "iopub.status.idle": "2023-07-06T05:47:29.835227Z",
     "shell.execute_reply": "2023-07-06T05:47:29.834185Z"
    },
    "id": "0ad3e29f",
    "outputId": "f4acc9a8-83c6-4e82-ab02-d85422d5e98d",
    "papermill": {
     "duration": 0.025504,
     "end_time": "2023-07-06T05:47:29.837533",
     "exception": false,
     "start_time": "2023-07-06T05:47:29.812029",
     "status": "completed"
    },
    "tags": []
   },
   "outputs": [
    {
     "data": {
      "text/plain": [
       "'Ankle boot'"
      ]
     },
     "execution_count": 19,
     "metadata": {},
     "output_type": "execute_result"
    }
   ],
   "source": [
    "class_names[y_train[0]]"
   ]
  },
  {
   "cell_type": "code",
   "execution_count": 20,
   "id": "32bac812",
   "metadata": {
    "execution": {
     "iopub.execute_input": "2023-07-06T05:47:29.870048Z",
     "iopub.status.busy": "2023-07-06T05:47:29.869659Z",
     "iopub.status.idle": "2023-07-06T05:47:30.177062Z",
     "shell.execute_reply": "2023-07-06T05:47:30.175520Z"
    },
    "id": "f4fb904e",
    "outputId": "0ed65477-2fe4-47aa-93ec-d28bb03b64ac",
    "papermill": {
     "duration": 0.330211,
     "end_time": "2023-07-06T05:47:30.183240",
     "exception": false,
     "start_time": "2023-07-06T05:47:29.853029",
     "status": "completed"
    },
    "tags": []
   },
   "outputs": [
    {
     "data": {
      "text/plain": [
       "<matplotlib.image.AxesImage at 0x790728631510>"
      ]
     },
     "execution_count": 20,
     "metadata": {},
     "output_type": "execute_result"
    },
    {
     "data": {
      "image/png": "[encoded data removed]",
      "text/plain": [
       "<Figure size 640x480 with 1 Axes>"
      ]
     },
     "metadata": {},
     "output_type": "display_data"
    }
   ],
   "source": [
    "plt.imshow(x_train[20],cmap='gray')"
   ]
  },
  {
   "cell_type": "code",
   "execution_count": 21,
   "id": "7aa4e7f1",
   "metadata": {
    "execution": {
     "iopub.execute_input": "2023-07-06T05:47:30.238124Z",
     "iopub.status.busy": "2023-07-06T05:47:30.237305Z",
     "iopub.status.idle": "2023-07-06T05:47:30.527463Z",
     "shell.execute_reply": "2023-07-06T05:47:30.526416Z"
    },
    "id": "321ba8f7",
    "outputId": "6c00df71-cae6-4ca7-e94f-a4a2a81880ae",
    "papermill": {
     "duration": 0.324365,
     "end_time": "2023-07-06T05:47:30.533081",
     "exception": false,
     "start_time": "2023-07-06T05:47:30.208716",
     "status": "completed"
    },
    "tags": []
   },
   "outputs": [
    {
     "name": "stdout",
     "output_type": "stream",
     "text": [
      "Model: \"sequential\"\n",
      "_________________________________________________________________\n",
      " Layer (type)                Output Shape              Param #   \n",
      "=================================================================\n",
      " flatten (Flatten)           (None, 784)               0         \n",
      "                                                                 \n",
      " dense (Dense)               (None, 784)               615440    \n",
      "                                                                 \n",
      " batch_normalization (BatchN  (None, 784)              3136      \n",
      " ormalization)                                                   \n",
      "                                                                 \n",
      " dense_1 (Dense)             (None, 512)               401920    \n",
      "                                                                 \n",
      " dropout (Dropout)           (None, 512)               0         \n",
      "                                                                 \n",
      " dense_2 (Dense)             (None, 1024)              525312    \n",
      "                                                                 \n",
      " batch_normalization_1 (Batc  (None, 1024)             4096      \n",
      " hNormalization)                                                 \n",
      "                                                                 \n",
      " dense_3 (Dense)             (None, 10)                10250     \n",
      "                                                                 \n",
      "=================================================================\n",
      "Total params: 1,560,154\n",
      "Trainable params: 1,556,538\n",
      "Non-trainable params: 3,616\n",
      "_________________________________________________________________\n"
     ]
    }
   ],
   "source": [
    "model = keras.Sequential([\n",
    "    layers.Flatten(input_shape=(28,28)),\n",
    "    layers.Dense(784,activation=\"relu\"),\n",
    "    layers.BatchNormalization(),\n",
    "    layers.Dense(512,activation=\"relu\"),\n",
    "    layers.Dropout(0.35),\n",
    "    layers.Dense(1024,activation=\"relu\"),\n",
    "    layers.BatchNormalization(),\n",
    "    layers.Dense(10,activation=\"softmax\")\n",
    "])\n",
    "model.summary()"
   ]
  },
  {
   "cell_type": "code",
   "execution_count": 22,
   "id": "7f3340bd",
   "metadata": {
    "execution": {
     "iopub.execute_input": "2023-07-06T05:47:30.570255Z",
     "iopub.status.busy": "2023-07-06T05:47:30.569899Z",
     "iopub.status.idle": "2023-07-06T05:47:30.697125Z",
     "shell.execute_reply": "2023-07-06T05:47:30.695954Z"
    },
    "id": "6e50e876",
    "papermill": {
     "duration": 0.149319,
     "end_time": "2023-07-06T05:47:30.700050",
     "exception": false,
     "start_time": "2023-07-06T05:47:30.550731",
     "status": "completed"
    },
    "tags": []
   },
   "outputs": [],
   "source": [
    "x_train=x_train.astype('float32')/255\n",
    "x_test=x_test.astype('float32')/255"
   ]
  },
  {
   "cell_type": "code",
   "execution_count": 23,
   "id": "06890d73",
   "metadata": {
    "execution": {
     "iopub.execute_input": "2023-07-06T05:47:30.737565Z",
     "iopub.status.busy": "2023-07-06T05:47:30.737173Z",
     "iopub.status.idle": "2023-07-06T05:47:30.755905Z",
     "shell.execute_reply": "2023-07-06T05:47:30.755097Z"
    },
    "id": "926bbc41",
    "papermill": {
     "duration": 0.040108,
     "end_time": "2023-07-06T05:47:30.758215",
     "exception": false,
     "start_time": "2023-07-06T05:47:30.718107",
     "status": "completed"
    },
    "tags": []
   },
   "outputs": [],
   "source": [
    "model.compile(\n",
    "    optimizer=\"sgd\",\n",
    "    loss=\"sparse_categorical_crossentropy\",\n",
    "    metrics=['accuracy']\n",
    ")"
   ]
  },
  {
   "cell_type": "code",
   "execution_count": 24,
   "id": "35058903",
   "metadata": {
    "execution": {
     "iopub.execute_input": "2023-07-06T05:47:30.796201Z",
     "iopub.status.busy": "2023-07-06T05:47:30.795225Z",
     "iopub.status.idle": "2023-07-06T05:50:53.545713Z",
     "shell.execute_reply": "2023-07-06T05:50:53.544431Z"
    },
    "id": "4vdEfaqOXudb",
    "outputId": "f0fb93fc-ef09-4585-a5c7-f20c158c26e0",
    "papermill": {
     "duration": 202.772264,
     "end_time": "2023-07-06T05:50:53.548342",
     "exception": false,
     "start_time": "2023-07-06T05:47:30.776078",
     "status": "completed"
    },
    "tags": []
   },
   "outputs": [
    {
     "name": "stdout",
     "output_type": "stream",
     "text": [
      "Epoch 1/10\n",
      "1875/1875 [==============================] - 22s 11ms/step - loss: 0.5768 - accuracy: 0.7963\n",
      "Epoch 2/10\n",
      "1875/1875 [==============================] - 20s 11ms/step - loss: 0.4584 - accuracy: 0.8345\n",
      "Epoch 3/10\n",
      "1875/1875 [==============================] - 20s 11ms/step - loss: 0.4199 - accuracy: 0.8478\n",
      "Epoch 4/10\n",
      "1875/1875 [==============================] - 20s 11ms/step - loss: 0.3987 - accuracy: 0.8567\n",
      "Epoch 5/10\n",
      "1875/1875 [==============================] - 20s 11ms/step - loss: 0.3796 - accuracy: 0.8622\n",
      "Epoch 6/10\n",
      "1875/1875 [==============================] - 20s 11ms/step - loss: 0.3681 - accuracy: 0.8671\n",
      "Epoch 7/10\n",
      "1875/1875 [==============================] - 20s 11ms/step - loss: 0.3557 - accuracy: 0.8694\n",
      "Epoch 8/10\n",
      "1875/1875 [==============================] - 20s 11ms/step - loss: 0.3480 - accuracy: 0.8738\n",
      "Epoch 9/10\n",
      "1875/1875 [==============================] - 20s 11ms/step - loss: 0.3399 - accuracy: 0.8762\n",
      "Epoch 10/10\n",
      "1875/1875 [==============================] - 20s 11ms/step - loss: 0.3302 - accuracy: 0.8791\n"
     ]
    }
   ],
   "source": [
    "history=model.fit(x_train,y_train,epochs=10)"
   ]
  },
  {
   "cell_type": "code",
   "execution_count": 25,
   "id": "7fb496da",
   "metadata": {
    "execution": {
     "iopub.execute_input": "2023-07-06T05:50:54.332240Z",
     "iopub.status.busy": "2023-07-06T05:50:54.331312Z",
     "iopub.status.idle": "2023-07-06T05:50:55.846803Z",
     "shell.execute_reply": "2023-07-06T05:50:55.845707Z"
    },
    "id": "HNGez5MEX7Mj",
    "outputId": "078ee7ee-10fa-42ab-c704-a9b208498ee7",
    "papermill": {
     "duration": 1.94384,
     "end_time": "2023-07-06T05:50:55.848930",
     "exception": false,
     "start_time": "2023-07-06T05:50:53.905090",
     "status": "completed"
    },
    "tags": []
   },
   "outputs": [
    {
     "name": "stdout",
     "output_type": "stream",
     "text": [
      "313/313 [==============================] - 1s 4ms/step - loss: 0.3524 - accuracy: 0.8778\n"
     ]
    },
    {
     "data": {
      "text/plain": [
       "[0.3523677587509155, 0.8777999877929688]"
      ]
     },
     "execution_count": 25,
     "metadata": {},
     "output_type": "execute_result"
    }
   ],
   "source": [
    "model.evaluate(x_test,y_test)"
   ]
  },
  {
   "cell_type": "code",
   "execution_count": 26,
   "id": "b2ff5722",
   "metadata": {
    "execution": {
     "iopub.execute_input": "2023-07-06T05:50:56.579435Z",
     "iopub.status.busy": "2023-07-06T05:50:56.578806Z",
     "iopub.status.idle": "2023-07-06T05:50:56.961886Z",
     "shell.execute_reply": "2023-07-06T05:50:56.960791Z"
    },
    "id": "w6reb6UwZDCH",
    "outputId": "fff1dc5e-14a7-4b2a-b36a-3d51ee385658",
    "papermill": {
     "duration": 0.749233,
     "end_time": "2023-07-06T05:50:56.964048",
     "exception": false,
     "start_time": "2023-07-06T05:50:56.214815",
     "status": "completed"
    },
    "tags": []
   },
   "outputs": [
    {
     "data": {
      "text/plain": [
       "<Axes: >"
      ]
     },
     "execution_count": 26,
     "metadata": {},
     "output_type": "execute_result"
    },
    {
     "data": {
      "image/png": "[encoded data removed]",
      "text/plain": [
       "<Figure size 800x500 with 1 Axes>"
      ]
     },
     "metadata": {},
     "output_type": "display_data"
    }
   ],
   "source": [
    "pd.DataFrame(history.history).plot(figsize=(8,5))"
   ]
  },
  {
   "cell_type": "code",
   "execution_count": 27,
   "id": "af6934e2",
   "metadata": {
    "execution": {
     "iopub.execute_input": "2023-07-06T05:50:57.692195Z",
     "iopub.status.busy": "2023-07-06T05:50:57.691210Z",
     "iopub.status.idle": "2023-07-06T05:51:00.456210Z",
     "shell.execute_reply": "2023-07-06T05:51:00.455100Z"
    },
    "id": "S3MhSIzLZVA-",
    "outputId": "3f0ac8cc-5a15-4180-da9a-0e520b0cde65",
    "papermill": {
     "duration": 3.132243,
     "end_time": "2023-07-06T05:51:00.458752",
     "exception": false,
     "start_time": "2023-07-06T05:50:57.326509",
     "status": "completed"
    },
    "tags": []
   },
   "outputs": [
    {
     "name": "stdout",
     "output_type": "stream",
     "text": [
      "313/313 [==============================] - 1s 4ms/step\n"
     ]
    }
   ],
   "source": [
    "y_pred=pd.DataFrame(np.argmax(model.predict(x_test),axis=1))"
   ]
  },
  {
   "cell_type": "code",
   "execution_count": 28,
   "id": "7a23012a",
   "metadata": {
    "execution": {
     "iopub.execute_input": "2023-07-06T05:51:01.185461Z",
     "iopub.status.busy": "2023-07-06T05:51:01.185086Z",
     "iopub.status.idle": "2023-07-06T05:51:01.207497Z",
     "shell.execute_reply": "2023-07-06T05:51:01.206375Z"
    },
    "id": "wIZH4XeZZwsV",
    "outputId": "ef5c7536-1de1-4c82-d5f2-b418334a3015",
    "papermill": {
     "duration": 0.388265,
     "end_time": "2023-07-06T05:51:01.210027",
     "exception": false,
     "start_time": "2023-07-06T05:51:00.821762",
     "status": "completed"
    },
    "tags": []
   },
   "outputs": [
    {
     "data": {
      "text/html": [
       "<div>\n",
       "<style scoped>\n",
       "    .dataframe tbody tr th:only-of-type {\n",
       "        vertical-align: middle;\n",
       "    }\n",
       "\n",
       "    .dataframe tbody tr th {\n",
       "        vertical-align: top;\n",
       "    }\n",
       "\n",
       "    .dataframe thead th {\n",
       "        text-align: right;\n",
       "    }\n",
       "</style>\n",
       "<table border=\"1\" class=\"dataframe\">\n",
       "  <thead>\n",
       "    <tr style=\"text-align: right;\">\n",
       "      <th></th>\n",
       "      <th>0</th>\n",
       "    </tr>\n",
       "  </thead>\n",
       "  <tbody>\n",
       "    <tr>\n",
       "      <th>0</th>\n",
       "      <td>9</td>\n",
       "    </tr>\n",
       "    <tr>\n",
       "      <th>1</th>\n",
       "      <td>2</td>\n",
       "    </tr>\n",
       "    <tr>\n",
       "      <th>2</th>\n",
       "      <td>1</td>\n",
       "    </tr>\n",
       "    <tr>\n",
       "      <th>3</th>\n",
       "      <td>1</td>\n",
       "    </tr>\n",
       "    <tr>\n",
       "      <th>4</th>\n",
       "      <td>6</td>\n",
       "    </tr>\n",
       "    <tr>\n",
       "      <th>5</th>\n",
       "      <td>1</td>\n",
       "    </tr>\n",
       "    <tr>\n",
       "      <th>6</th>\n",
       "      <td>4</td>\n",
       "    </tr>\n",
       "    <tr>\n",
       "      <th>7</th>\n",
       "      <td>6</td>\n",
       "    </tr>\n",
       "    <tr>\n",
       "      <th>8</th>\n",
       "      <td>5</td>\n",
       "    </tr>\n",
       "    <tr>\n",
       "      <th>9</th>\n",
       "      <td>7</td>\n",
       "    </tr>\n",
       "  </tbody>\n",
       "</table>\n",
       "</div>"
      ],
      "text/plain": [
       "   0\n",
       "0  9\n",
       "1  2\n",
       "2  1\n",
       "3  1\n",
       "4  6\n",
       "5  1\n",
       "6  4\n",
       "7  6\n",
       "8  5\n",
       "9  7"
      ]
     },
     "execution_count": 28,
     "metadata": {},
     "output_type": "execute_result"
    }
   ],
   "source": [
    "y_pred.head(10)"
   ]
  },
  {
   "cell_type": "code",
   "execution_count": 29,
   "id": "52c04321",
   "metadata": {
    "execution": {
     "iopub.execute_input": "2023-07-06T05:51:02.002402Z",
     "iopub.status.busy": "2023-07-06T05:51:02.001377Z",
     "iopub.status.idle": "2023-07-06T05:51:02.011425Z",
     "shell.execute_reply": "2023-07-06T05:51:02.010088Z"
    },
    "id": "vG2AaVKlZyqF",
    "outputId": "c165bd87-51c3-4bb6-84c9-c59f6de64a95",
    "papermill": {
     "duration": 0.437103,
     "end_time": "2023-07-06T05:51:02.013803",
     "exception": false,
     "start_time": "2023-07-06T05:51:01.576700",
     "status": "completed"
    },
    "tags": []
   },
   "outputs": [
    {
     "data": {
      "text/html": [
       "<div>\n",
       "<style scoped>\n",
       "    .dataframe tbody tr th:only-of-type {\n",
       "        vertical-align: middle;\n",
       "    }\n",
       "\n",
       "    .dataframe tbody tr th {\n",
       "        vertical-align: top;\n",
       "    }\n",
       "\n",
       "    .dataframe thead th {\n",
       "        text-align: right;\n",
       "    }\n",
       "</style>\n",
       "<table border=\"1\" class=\"dataframe\">\n",
       "  <thead>\n",
       "    <tr style=\"text-align: right;\">\n",
       "      <th></th>\n",
       "      <th>0</th>\n",
       "    </tr>\n",
       "  </thead>\n",
       "  <tbody>\n",
       "    <tr>\n",
       "      <th>0</th>\n",
       "      <td>9</td>\n",
       "    </tr>\n",
       "    <tr>\n",
       "      <th>1</th>\n",
       "      <td>2</td>\n",
       "    </tr>\n",
       "    <tr>\n",
       "      <th>2</th>\n",
       "      <td>1</td>\n",
       "    </tr>\n",
       "    <tr>\n",
       "      <th>3</th>\n",
       "      <td>1</td>\n",
       "    </tr>\n",
       "    <tr>\n",
       "      <th>4</th>\n",
       "      <td>6</td>\n",
       "    </tr>\n",
       "    <tr>\n",
       "      <th>5</th>\n",
       "      <td>1</td>\n",
       "    </tr>\n",
       "    <tr>\n",
       "      <th>6</th>\n",
       "      <td>4</td>\n",
       "    </tr>\n",
       "    <tr>\n",
       "      <th>7</th>\n",
       "      <td>6</td>\n",
       "    </tr>\n",
       "    <tr>\n",
       "      <th>8</th>\n",
       "      <td>5</td>\n",
       "    </tr>\n",
       "    <tr>\n",
       "      <th>9</th>\n",
       "      <td>7</td>\n",
       "    </tr>\n",
       "  </tbody>\n",
       "</table>\n",
       "</div>"
      ],
      "text/plain": [
       "   0\n",
       "0  9\n",
       "1  2\n",
       "2  1\n",
       "3  1\n",
       "4  6\n",
       "5  1\n",
       "6  4\n",
       "7  6\n",
       "8  5\n",
       "9  7"
      ]
     },
     "execution_count": 29,
     "metadata": {},
     "output_type": "execute_result"
    }
   ],
   "source": [
    "pd.DataFrame(y_test).head(10)"
   ]
  },
  {
   "cell_type": "code",
   "execution_count": 30,
   "id": "bd2d22a5",
   "metadata": {
    "execution": {
     "iopub.execute_input": "2023-07-06T05:51:02.743342Z",
     "iopub.status.busy": "2023-07-06T05:51:02.742398Z",
     "iopub.status.idle": "2023-07-06T05:51:02.747512Z",
     "shell.execute_reply": "2023-07-06T05:51:02.746812Z"
    },
    "id": "LCuRzbnvZ1L1",
    "papermill": {
     "duration": 0.371208,
     "end_time": "2023-07-06T05:51:02.749543",
     "exception": false,
     "start_time": "2023-07-06T05:51:02.378335",
     "status": "completed"
    },
    "tags": []
   },
   "outputs": [],
   "source": [
    "pred=np.asarray(y_pred)"
   ]
  },
  {
   "cell_type": "code",
   "execution_count": 31,
   "id": "a1583df4",
   "metadata": {
    "execution": {
     "iopub.execute_input": "2023-07-06T05:51:03.501909Z",
     "iopub.status.busy": "2023-07-06T05:51:03.500973Z",
     "iopub.status.idle": "2023-07-06T05:51:03.506011Z",
     "shell.execute_reply": "2023-07-06T05:51:03.505083Z"
    },
    "id": "XuCsWlLeae4h",
    "papermill": {
     "duration": 0.397436,
     "end_time": "2023-07-06T05:51:03.508062",
     "exception": false,
     "start_time": "2023-07-06T05:51:03.110626",
     "status": "completed"
    },
    "tags": []
   },
   "outputs": [],
   "source": [
    "pred=pred.flatten()"
   ]
  },
  {
   "cell_type": "code",
   "execution_count": 32,
   "id": "779cc98b",
   "metadata": {
    "execution": {
     "iopub.execute_input": "2023-07-06T05:51:04.238710Z",
     "iopub.status.busy": "2023-07-06T05:51:04.237920Z",
     "iopub.status.idle": "2023-07-06T05:51:04.245368Z",
     "shell.execute_reply": "2023-07-06T05:51:04.244462Z"
    },
    "id": "8RO9jxX2a6GU",
    "outputId": "1e8538f3-977c-4362-adb6-d30070540e1f",
    "papermill": {
     "duration": 0.376754,
     "end_time": "2023-07-06T05:51:04.247444",
     "exception": false,
     "start_time": "2023-07-06T05:51:03.870690",
     "status": "completed"
    },
    "tags": []
   },
   "outputs": [
    {
     "data": {
      "text/plain": [
       "array([9, 2, 1, ..., 8, 1, 5], dtype=uint8)"
      ]
     },
     "execution_count": 32,
     "metadata": {},
     "output_type": "execute_result"
    }
   ],
   "source": [
    "y_test"
   ]
  },
  {
   "cell_type": "code",
   "execution_count": 33,
   "id": "032e921c",
   "metadata": {
    "execution": {
     "iopub.execute_input": "2023-07-06T05:51:04.974336Z",
     "iopub.status.busy": "2023-07-06T05:51:04.973319Z",
     "iopub.status.idle": "2023-07-06T05:51:05.196244Z",
     "shell.execute_reply": "2023-07-06T05:51:05.195158Z"
    },
    "id": "ekKmuMcRanFh",
    "papermill": {
     "duration": 0.588368,
     "end_time": "2023-07-06T05:51:05.199248",
     "exception": false,
     "start_time": "2023-07-06T05:51:04.610880",
     "status": "completed"
    },
    "tags": []
   },
   "outputs": [],
   "source": [
    "from  sklearn.metrics import confusion_matrix\n",
    "cm=confusion_matrix(y_test,y_pred)"
   ]
  },
  {
   "cell_type": "code",
   "execution_count": 34,
   "id": "c4c07519",
   "metadata": {
    "execution": {
     "iopub.execute_input": "2023-07-06T05:51:05.997969Z",
     "iopub.status.busy": "2023-07-06T05:51:05.997025Z",
     "iopub.status.idle": "2023-07-06T05:51:06.002067Z",
     "shell.execute_reply": "2023-07-06T05:51:06.001186Z"
    },
    "id": "d1TZqA_Qbv_u",
    "papermill": {
     "duration": 0.372746,
     "end_time": "2023-07-06T05:51:06.004600",
     "exception": false,
     "start_time": "2023-07-06T05:51:05.631854",
     "status": "completed"
    },
    "tags": []
   },
   "outputs": [],
   "source": [
    "class_names = [\n",
    "    'T-shirt/top',\n",
    "    'Trouser',\n",
    "    'Pullover',\n",
    "    'Dress',\n",
    "    'Coat',\n",
    "    'Sandal',\n",
    "    'Shirt',\n",
    "    'Sneaker',\n",
    "    'Bag',\n",
    "    'Ankle boot'\n",
    "]\n"
   ]
  },
  {
   "cell_type": "code",
   "execution_count": 35,
   "id": "af34de66",
   "metadata": {
    "execution": {
     "iopub.execute_input": "2023-07-06T05:51:06.737613Z",
     "iopub.status.busy": "2023-07-06T05:51:06.736937Z",
     "iopub.status.idle": "2023-07-06T05:51:07.417433Z",
     "shell.execute_reply": "2023-07-06T05:51:07.416282Z"
    },
    "id": "WlxGS6o3atjc",
    "outputId": "2945644f-dfca-4606-8d90-c1914459ce98",
    "papermill": {
     "duration": 1.047453,
     "end_time": "2023-07-06T05:51:07.419858",
     "exception": false,
     "start_time": "2023-07-06T05:51:06.372405",
     "status": "completed"
    },
    "tags": []
   },
   "outputs": [
    {
     "data": {
      "text/plain": [
       "<Axes: >"
      ]
     },
     "execution_count": 35,
     "metadata": {},
     "output_type": "execute_result"
    },
    {
     "data": {
      "image/png": "[encoded data removed]",
      "text/plain": [
       "<Figure size 640x480 with 2 Axes>"
      ]
     },
     "metadata": {},
     "output_type": "display_data"
    }
   ],
   "source": [
    "sns.heatmap(cm,annot=True,fmt=\"d\",cmap=\"Blues\",xticklabels=class_names,yticklabels=class_names)"
   ]
  }
 ],
 "metadata": {
  "kernelspec": {
   "display_name": "Python 3",
   "language": "python",
   "name": "python3"
  },
  "language_info": {
   "codemirror_mode": {
    "name": "ipython",
    "version": 3
   },
   "file_extension": ".py",
   "mimetype": "text/x-python",
   "name": "python",
   "nbconvert_exporter": "python",
   "pygments_lexer": "ipython3",
   "version": "3.10.10"
  },
  "papermill": {
   "default_parameters": {},
   "duration": 286.961538,
   "end_time": "2023-07-06T05:51:11.288981",
   "environment_variables": {},
   "exception": null,
   "input_path": "__notebook__.ipynb",
   "output_path": "__notebook__.ipynb",
   "parameters": {},
   "start_time": "2023-07-06T05:46:24.327443",
   "version": "2.4.0"
  }
 },
 "nbformat": 4,
 "nbformat_minor": 5
}
